{
 "cells": [
  {
   "cell_type": "markdown",
   "id": "e3b1c71e-0088-4ef5-b219-f13bd2cdc671",
   "metadata": {},
   "source": [
    "### Finding Slope and Rate of Change"
   ]
  },
  {
   "cell_type": "code",
   "execution_count": null,
   "id": "76601b72-3864-4371-88a3-a5d4f42e435f",
   "metadata": {},
   "outputs": [],
   "source": []
  },
  {
   "cell_type": "code",
   "execution_count": null,
   "id": "315f28c9-e00f-4cf0-a6b8-72b581fd15fb",
   "metadata": {},
   "outputs": [],
   "source": [
    "import numpy as np\n",
    "import pandas as pd\n",
    "import matplotlib.pyplot as plt\n",
    "import scipy"
   ]
  },
  {
   "cell_type": "markdown",
   "id": "c0c43f29-d22b-4014-84eb-2be21381da83",
   "metadata": {},
   "source": [
    "images: <img src='Desktop/functions test.png' width=600 height=1000> "
   ]
  },
  {
   "cell_type": "markdown",
   "id": "c183b0c7-3aa6-4698-b54a-fe0e405fa054",
   "metadata": {
    "tags": []
   },
   "source": [
    "def calculate_slope(x1, y1, x2, y2):\n",
    "    # Calculate the change in y (vertical change)\n",
    "    delta_y = y2 - y1\n",
    "\n",
    "    # Calculate the change in x (horizontal change)\n",
    "    delta_x = x2 - x1\n",
    "\n",
    "    # Calculate the slope (rise over run)\n",
    "    slope = delta_y / delta_x\n",
    "\n",
    "    return slope\n",
    "\n",
    "\n",
    "# Prompt the user to input the coordinates of the two points\n",
    "x1 = float(input(\"Enter the x-coordinate of the first point: \"))\n",
    "y1 = float(input(\"Enter the y-coordinate of the first point: \"))\n",
    "x2 = float(input(\"Enter the x-coordinate of the second point: \"))\n",
    "y2 = float(input(\"Enter the y-coordinate of the second point: \"))\n",
    "\n",
    "# Call the function to calculate the slope\n",
    "slope = calculate_slope(x1, y1, x2, y2)\n",
    "\n",
    "# Print the slope\n",
    "print(\"The slope of the line passing through the two points is:\", slope)"
   ]
  },
  {
   "cell_type": "code",
   "execution_count": null,
   "id": "a6897571-e7c2-47c9-81ec-9608e4d033e9",
   "metadata": {},
   "outputs": [],
   "source": []
  }
 ],
 "metadata": {
  "kernelspec": {
   "display_name": "Python 3 (ipykernel)",
   "language": "python",
   "name": "python3"
  },
  "language_info": {
   "codemirror_mode": {
    "name": "ipython",
    "version": 3
   },
   "file_extension": ".py",
   "mimetype": "text/x-python",
   "name": "python",
   "nbconvert_exporter": "python",
   "pygments_lexer": "ipython3",
   "version": "3.10.9"
  }
 },
 "nbformat": 4,
 "nbformat_minor": 5
}
